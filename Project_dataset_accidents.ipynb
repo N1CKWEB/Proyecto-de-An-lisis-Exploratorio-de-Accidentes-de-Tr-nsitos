{
 "cells": [
  {
   "cell_type": "code",
   "execution_count": 2,
   "metadata": {},
   "outputs": [
    {
     "data": {
      "text/html": [
       "<div>\n",
       "<style scoped>\n",
       "    .dataframe tbody tr th:only-of-type {\n",
       "        vertical-align: middle;\n",
       "    }\n",
       "\n",
       "    .dataframe tbody tr th {\n",
       "        vertical-align: top;\n",
       "    }\n",
       "\n",
       "    .dataframe thead th {\n",
       "        text-align: right;\n",
       "    }\n",
       "</style>\n",
       "<table border=\"1\" class=\"dataframe\">\n",
       "  <thead>\n",
       "    <tr style=\"text-align: right;\">\n",
       "      <th></th>\n",
       "      <th>Accident_ID</th>\n",
       "      <th>City</th>\n",
       "      <th>Condition</th>\n",
       "      <th>Severity</th>\n",
       "      <th>Day_of_Week</th>\n",
       "      <th>Hour</th>\n",
       "      <th>Injuries</th>\n",
       "      <th>Fatalities</th>\n",
       "    </tr>\n",
       "  </thead>\n",
       "  <tbody>\n",
       "    <tr>\n",
       "      <th>0</th>\n",
       "      <td>1</td>\n",
       "      <td>Houston</td>\n",
       "      <td>Rain</td>\n",
       "      <td>1</td>\n",
       "      <td>Monday</td>\n",
       "      <td>11</td>\n",
       "      <td>3</td>\n",
       "      <td>0</td>\n",
       "    </tr>\n",
       "    <tr>\n",
       "      <th>1</th>\n",
       "      <td>2</td>\n",
       "      <td>Phoenix</td>\n",
       "      <td>Thunderstorm</td>\n",
       "      <td>3</td>\n",
       "      <td>Sunday</td>\n",
       "      <td>23</td>\n",
       "      <td>1</td>\n",
       "      <td>0</td>\n",
       "    </tr>\n",
       "    <tr>\n",
       "      <th>2</th>\n",
       "      <td>3</td>\n",
       "      <td>Chicago</td>\n",
       "      <td>Fog</td>\n",
       "      <td>1</td>\n",
       "      <td>Friday</td>\n",
       "      <td>22</td>\n",
       "      <td>0</td>\n",
       "      <td>0</td>\n",
       "    </tr>\n",
       "    <tr>\n",
       "      <th>3</th>\n",
       "      <td>4</td>\n",
       "      <td>Phoenix</td>\n",
       "      <td>Fog</td>\n",
       "      <td>1</td>\n",
       "      <td>Friday</td>\n",
       "      <td>8</td>\n",
       "      <td>1</td>\n",
       "      <td>0</td>\n",
       "    </tr>\n",
       "    <tr>\n",
       "      <th>4</th>\n",
       "      <td>5</td>\n",
       "      <td>Phoenix</td>\n",
       "      <td>Thunderstorm</td>\n",
       "      <td>2</td>\n",
       "      <td>Tuesday</td>\n",
       "      <td>2</td>\n",
       "      <td>1</td>\n",
       "      <td>0</td>\n",
       "    </tr>\n",
       "    <tr>\n",
       "      <th>...</th>\n",
       "      <td>...</td>\n",
       "      <td>...</td>\n",
       "      <td>...</td>\n",
       "      <td>...</td>\n",
       "      <td>...</td>\n",
       "      <td>...</td>\n",
       "      <td>...</td>\n",
       "      <td>...</td>\n",
       "    </tr>\n",
       "    <tr>\n",
       "      <th>4995</th>\n",
       "      <td>4996</td>\n",
       "      <td>Houston</td>\n",
       "      <td>Rain</td>\n",
       "      <td>2</td>\n",
       "      <td>Wednesday</td>\n",
       "      <td>3</td>\n",
       "      <td>0</td>\n",
       "      <td>0</td>\n",
       "    </tr>\n",
       "    <tr>\n",
       "      <th>4996</th>\n",
       "      <td>4997</td>\n",
       "      <td>Houston</td>\n",
       "      <td>Snow</td>\n",
       "      <td>3</td>\n",
       "      <td>Thursday</td>\n",
       "      <td>14</td>\n",
       "      <td>2</td>\n",
       "      <td>0</td>\n",
       "    </tr>\n",
       "    <tr>\n",
       "      <th>4997</th>\n",
       "      <td>4998</td>\n",
       "      <td>Phoenix</td>\n",
       "      <td>Rain</td>\n",
       "      <td>4</td>\n",
       "      <td>Saturday</td>\n",
       "      <td>20</td>\n",
       "      <td>3</td>\n",
       "      <td>0</td>\n",
       "    </tr>\n",
       "    <tr>\n",
       "      <th>4998</th>\n",
       "      <td>4999</td>\n",
       "      <td>Houston</td>\n",
       "      <td>Fog</td>\n",
       "      <td>3</td>\n",
       "      <td>Friday</td>\n",
       "      <td>15</td>\n",
       "      <td>2</td>\n",
       "      <td>0</td>\n",
       "    </tr>\n",
       "    <tr>\n",
       "      <th>4999</th>\n",
       "      <td>5000</td>\n",
       "      <td>Phoenix</td>\n",
       "      <td>Snow</td>\n",
       "      <td>1</td>\n",
       "      <td>Friday</td>\n",
       "      <td>14</td>\n",
       "      <td>4</td>\n",
       "      <td>0</td>\n",
       "    </tr>\n",
       "  </tbody>\n",
       "</table>\n",
       "<p>5000 rows × 8 columns</p>\n",
       "</div>"
      ],
      "text/plain": [
       "      Accident_ID     City     Condition  Severity Day_of_Week  Hour  \\\n",
       "0               1  Houston          Rain         1      Monday    11   \n",
       "1               2  Phoenix  Thunderstorm         3      Sunday    23   \n",
       "2               3  Chicago           Fog         1      Friday    22   \n",
       "3               4  Phoenix           Fog         1      Friday     8   \n",
       "4               5  Phoenix  Thunderstorm         2     Tuesday     2   \n",
       "...           ...      ...           ...       ...         ...   ...   \n",
       "4995         4996  Houston          Rain         2   Wednesday     3   \n",
       "4996         4997  Houston          Snow         3    Thursday    14   \n",
       "4997         4998  Phoenix          Rain         4    Saturday    20   \n",
       "4998         4999  Houston           Fog         3      Friday    15   \n",
       "4999         5000  Phoenix          Snow         1      Friday    14   \n",
       "\n",
       "      Injuries  Fatalities  \n",
       "0            3           0  \n",
       "1            1           0  \n",
       "2            0           0  \n",
       "3            1           0  \n",
       "4            1           0  \n",
       "...        ...         ...  \n",
       "4995         0           0  \n",
       "4996         2           0  \n",
       "4997         3           0  \n",
       "4998         2           0  \n",
       "4999         4           0  \n",
       "\n",
       "[5000 rows x 8 columns]"
      ]
     },
     "execution_count": 2,
     "metadata": {},
     "output_type": "execute_result"
    }
   ],
   "source": [
    "import pandas as pd\n",
    "import numpy as np\n",
    "\n",
    "df=pd.read_csv('simulated_us_accidents.csv')\n",
    "df"
   ]
  },
  {
   "cell_type": "code",
   "execution_count": 3,
   "metadata": {},
   "outputs": [
    {
     "name": "stdout",
     "output_type": "stream",
     "text": [
      "<class 'pandas.core.frame.DataFrame'>\n",
      "RangeIndex: 5000 entries, 0 to 4999\n",
      "Data columns (total 8 columns):\n",
      " #   Column       Non-Null Count  Dtype \n",
      "---  ------       --------------  ----- \n",
      " 0   Accident_ID  5000 non-null   int64 \n",
      " 1   City         5000 non-null   object\n",
      " 2   Condition    5000 non-null   object\n",
      " 3   Severity     5000 non-null   int64 \n",
      " 4   Day_of_Week  5000 non-null   object\n",
      " 5   Hour         5000 non-null   int64 \n",
      " 6   Injuries     5000 non-null   int64 \n",
      " 7   Fatalities   5000 non-null   int64 \n",
      "dtypes: int64(5), object(3)\n",
      "memory usage: 312.6+ KB\n"
     ]
    }
   ],
   "source": [
    "df.info()"
   ]
  },
  {
   "cell_type": "code",
   "execution_count": 4,
   "metadata": {},
   "outputs": [
    {
     "data": {
      "text/html": [
       "<div>\n",
       "<style scoped>\n",
       "    .dataframe tbody tr th:only-of-type {\n",
       "        vertical-align: middle;\n",
       "    }\n",
       "\n",
       "    .dataframe tbody tr th {\n",
       "        vertical-align: top;\n",
       "    }\n",
       "\n",
       "    .dataframe thead th {\n",
       "        text-align: right;\n",
       "    }\n",
       "</style>\n",
       "<table border=\"1\" class=\"dataframe\">\n",
       "  <thead>\n",
       "    <tr style=\"text-align: right;\">\n",
       "      <th></th>\n",
       "      <th>Accident_ID</th>\n",
       "      <th>Severity</th>\n",
       "      <th>Hour</th>\n",
       "      <th>Injuries</th>\n",
       "      <th>Fatalities</th>\n",
       "    </tr>\n",
       "  </thead>\n",
       "  <tbody>\n",
       "    <tr>\n",
       "      <th>count</th>\n",
       "      <td>5000.000000</td>\n",
       "      <td>5000.000000</td>\n",
       "      <td>5000.00000</td>\n",
       "      <td>5000.000000</td>\n",
       "      <td>5000.000000</td>\n",
       "    </tr>\n",
       "    <tr>\n",
       "      <th>mean</th>\n",
       "      <td>2500.500000</td>\n",
       "      <td>1.993000</td>\n",
       "      <td>11.44880</td>\n",
       "      <td>2.025800</td>\n",
       "      <td>0.052600</td>\n",
       "    </tr>\n",
       "    <tr>\n",
       "      <th>std</th>\n",
       "      <td>1443.520003</td>\n",
       "      <td>0.992748</td>\n",
       "      <td>6.87884</td>\n",
       "      <td>1.432601</td>\n",
       "      <td>0.223256</td>\n",
       "    </tr>\n",
       "    <tr>\n",
       "      <th>min</th>\n",
       "      <td>1.000000</td>\n",
       "      <td>1.000000</td>\n",
       "      <td>0.00000</td>\n",
       "      <td>0.000000</td>\n",
       "      <td>0.000000</td>\n",
       "    </tr>\n",
       "    <tr>\n",
       "      <th>25%</th>\n",
       "      <td>1250.750000</td>\n",
       "      <td>1.000000</td>\n",
       "      <td>5.00000</td>\n",
       "      <td>1.000000</td>\n",
       "      <td>0.000000</td>\n",
       "    </tr>\n",
       "    <tr>\n",
       "      <th>50%</th>\n",
       "      <td>2500.500000</td>\n",
       "      <td>2.000000</td>\n",
       "      <td>12.00000</td>\n",
       "      <td>2.000000</td>\n",
       "      <td>0.000000</td>\n",
       "    </tr>\n",
       "    <tr>\n",
       "      <th>75%</th>\n",
       "      <td>3750.250000</td>\n",
       "      <td>3.000000</td>\n",
       "      <td>17.00000</td>\n",
       "      <td>3.000000</td>\n",
       "      <td>0.000000</td>\n",
       "    </tr>\n",
       "    <tr>\n",
       "      <th>max</th>\n",
       "      <td>5000.000000</td>\n",
       "      <td>4.000000</td>\n",
       "      <td>23.00000</td>\n",
       "      <td>10.000000</td>\n",
       "      <td>1.000000</td>\n",
       "    </tr>\n",
       "  </tbody>\n",
       "</table>\n",
       "</div>"
      ],
      "text/plain": [
       "       Accident_ID     Severity        Hour     Injuries   Fatalities\n",
       "count  5000.000000  5000.000000  5000.00000  5000.000000  5000.000000\n",
       "mean   2500.500000     1.993000    11.44880     2.025800     0.052600\n",
       "std    1443.520003     0.992748     6.87884     1.432601     0.223256\n",
       "min       1.000000     1.000000     0.00000     0.000000     0.000000\n",
       "25%    1250.750000     1.000000     5.00000     1.000000     0.000000\n",
       "50%    2500.500000     2.000000    12.00000     2.000000     0.000000\n",
       "75%    3750.250000     3.000000    17.00000     3.000000     0.000000\n",
       "max    5000.000000     4.000000    23.00000    10.000000     1.000000"
      ]
     },
     "execution_count": 4,
     "metadata": {},
     "output_type": "execute_result"
    }
   ],
   "source": [
    "df.describe()"
   ]
  },
  {
   "cell_type": "markdown",
   "metadata": {},
   "source": [
    "## 1. Limpieza de Datos"
   ]
  },
  {
   "cell_type": "markdown",
   "metadata": {},
   "source": [
    "#### . Verifica si hay  valores nulos en el dataset. Decide si los eliminarás, imputarás o los manejarás de otra forma"
   ]
  },
  {
   "cell_type": "code",
   "execution_count": 5,
   "metadata": {},
   "outputs": [
    {
     "data": {
      "text/html": [
       "<div>\n",
       "<style scoped>\n",
       "    .dataframe tbody tr th:only-of-type {\n",
       "        vertical-align: middle;\n",
       "    }\n",
       "\n",
       "    .dataframe tbody tr th {\n",
       "        vertical-align: top;\n",
       "    }\n",
       "\n",
       "    .dataframe thead th {\n",
       "        text-align: right;\n",
       "    }\n",
       "</style>\n",
       "<table border=\"1\" class=\"dataframe\">\n",
       "  <thead>\n",
       "    <tr style=\"text-align: right;\">\n",
       "      <th></th>\n",
       "      <th>Accident_ID</th>\n",
       "      <th>City</th>\n",
       "      <th>Condition</th>\n",
       "      <th>Severity</th>\n",
       "      <th>Day_of_Week</th>\n",
       "      <th>Hour</th>\n",
       "      <th>Injuries</th>\n",
       "      <th>Fatalities</th>\n",
       "    </tr>\n",
       "  </thead>\n",
       "  <tbody>\n",
       "    <tr>\n",
       "      <th>0</th>\n",
       "      <td>False</td>\n",
       "      <td>False</td>\n",
       "      <td>False</td>\n",
       "      <td>False</td>\n",
       "      <td>False</td>\n",
       "      <td>False</td>\n",
       "      <td>False</td>\n",
       "      <td>False</td>\n",
       "    </tr>\n",
       "    <tr>\n",
       "      <th>1</th>\n",
       "      <td>False</td>\n",
       "      <td>False</td>\n",
       "      <td>False</td>\n",
       "      <td>False</td>\n",
       "      <td>False</td>\n",
       "      <td>False</td>\n",
       "      <td>False</td>\n",
       "      <td>False</td>\n",
       "    </tr>\n",
       "    <tr>\n",
       "      <th>2</th>\n",
       "      <td>False</td>\n",
       "      <td>False</td>\n",
       "      <td>False</td>\n",
       "      <td>False</td>\n",
       "      <td>False</td>\n",
       "      <td>False</td>\n",
       "      <td>False</td>\n",
       "      <td>False</td>\n",
       "    </tr>\n",
       "    <tr>\n",
       "      <th>3</th>\n",
       "      <td>False</td>\n",
       "      <td>False</td>\n",
       "      <td>False</td>\n",
       "      <td>False</td>\n",
       "      <td>False</td>\n",
       "      <td>False</td>\n",
       "      <td>False</td>\n",
       "      <td>False</td>\n",
       "    </tr>\n",
       "    <tr>\n",
       "      <th>4</th>\n",
       "      <td>False</td>\n",
       "      <td>False</td>\n",
       "      <td>False</td>\n",
       "      <td>False</td>\n",
       "      <td>False</td>\n",
       "      <td>False</td>\n",
       "      <td>False</td>\n",
       "      <td>False</td>\n",
       "    </tr>\n",
       "    <tr>\n",
       "      <th>...</th>\n",
       "      <td>...</td>\n",
       "      <td>...</td>\n",
       "      <td>...</td>\n",
       "      <td>...</td>\n",
       "      <td>...</td>\n",
       "      <td>...</td>\n",
       "      <td>...</td>\n",
       "      <td>...</td>\n",
       "    </tr>\n",
       "    <tr>\n",
       "      <th>4995</th>\n",
       "      <td>False</td>\n",
       "      <td>False</td>\n",
       "      <td>False</td>\n",
       "      <td>False</td>\n",
       "      <td>False</td>\n",
       "      <td>False</td>\n",
       "      <td>False</td>\n",
       "      <td>False</td>\n",
       "    </tr>\n",
       "    <tr>\n",
       "      <th>4996</th>\n",
       "      <td>False</td>\n",
       "      <td>False</td>\n",
       "      <td>False</td>\n",
       "      <td>False</td>\n",
       "      <td>False</td>\n",
       "      <td>False</td>\n",
       "      <td>False</td>\n",
       "      <td>False</td>\n",
       "    </tr>\n",
       "    <tr>\n",
       "      <th>4997</th>\n",
       "      <td>False</td>\n",
       "      <td>False</td>\n",
       "      <td>False</td>\n",
       "      <td>False</td>\n",
       "      <td>False</td>\n",
       "      <td>False</td>\n",
       "      <td>False</td>\n",
       "      <td>False</td>\n",
       "    </tr>\n",
       "    <tr>\n",
       "      <th>4998</th>\n",
       "      <td>False</td>\n",
       "      <td>False</td>\n",
       "      <td>False</td>\n",
       "      <td>False</td>\n",
       "      <td>False</td>\n",
       "      <td>False</td>\n",
       "      <td>False</td>\n",
       "      <td>False</td>\n",
       "    </tr>\n",
       "    <tr>\n",
       "      <th>4999</th>\n",
       "      <td>False</td>\n",
       "      <td>False</td>\n",
       "      <td>False</td>\n",
       "      <td>False</td>\n",
       "      <td>False</td>\n",
       "      <td>False</td>\n",
       "      <td>False</td>\n",
       "      <td>False</td>\n",
       "    </tr>\n",
       "  </tbody>\n",
       "</table>\n",
       "<p>5000 rows × 8 columns</p>\n",
       "</div>"
      ],
      "text/plain": [
       "      Accident_ID   City  Condition  Severity  Day_of_Week   Hour  Injuries  \\\n",
       "0           False  False      False     False        False  False     False   \n",
       "1           False  False      False     False        False  False     False   \n",
       "2           False  False      False     False        False  False     False   \n",
       "3           False  False      False     False        False  False     False   \n",
       "4           False  False      False     False        False  False     False   \n",
       "...           ...    ...        ...       ...          ...    ...       ...   \n",
       "4995        False  False      False     False        False  False     False   \n",
       "4996        False  False      False     False        False  False     False   \n",
       "4997        False  False      False     False        False  False     False   \n",
       "4998        False  False      False     False        False  False     False   \n",
       "4999        False  False      False     False        False  False     False   \n",
       "\n",
       "      Fatalities  \n",
       "0          False  \n",
       "1          False  \n",
       "2          False  \n",
       "3          False  \n",
       "4          False  \n",
       "...          ...  \n",
       "4995       False  \n",
       "4996       False  \n",
       "4997       False  \n",
       "4998       False  \n",
       "4999       False  \n",
       "\n",
       "[5000 rows x 8 columns]"
      ]
     },
     "execution_count": 5,
     "metadata": {},
     "output_type": "execute_result"
    }
   ],
   "source": [
    "df.isnull()"
   ]
  },
  {
   "cell_type": "code",
   "execution_count": 6,
   "metadata": {},
   "outputs": [
    {
     "data": {
      "text/plain": [
       "Accident_ID    0\n",
       "City           0\n",
       "Condition      0\n",
       "Severity       0\n",
       "Day_of_Week    0\n",
       "Hour           0\n",
       "Injuries       0\n",
       "Fatalities     0\n",
       "dtype: int64"
      ]
     },
     "execution_count": 6,
     "metadata": {},
     "output_type": "execute_result"
    }
   ],
   "source": [
    "df.isnull().sum()"
   ]
  },
  {
   "cell_type": "markdown",
   "metadata": {},
   "source": [
    "##### . Revisa si hay datos duplicados y elimínalos si es necesario.\n"
   ]
  },
  {
   "cell_type": "code",
   "execution_count": 7,
   "metadata": {},
   "outputs": [
    {
     "data": {
      "text/html": [
       "<div>\n",
       "<style scoped>\n",
       "    .dataframe tbody tr th:only-of-type {\n",
       "        vertical-align: middle;\n",
       "    }\n",
       "\n",
       "    .dataframe tbody tr th {\n",
       "        vertical-align: top;\n",
       "    }\n",
       "\n",
       "    .dataframe thead th {\n",
       "        text-align: right;\n",
       "    }\n",
       "</style>\n",
       "<table border=\"1\" class=\"dataframe\">\n",
       "  <thead>\n",
       "    <tr style=\"text-align: right;\">\n",
       "      <th></th>\n",
       "      <th>Accident_ID</th>\n",
       "      <th>City</th>\n",
       "      <th>Condition</th>\n",
       "      <th>Severity</th>\n",
       "      <th>Day_of_Week</th>\n",
       "      <th>Hour</th>\n",
       "      <th>Injuries</th>\n",
       "      <th>Fatalities</th>\n",
       "    </tr>\n",
       "  </thead>\n",
       "  <tbody>\n",
       "    <tr>\n",
       "      <th>0</th>\n",
       "      <td>1</td>\n",
       "      <td>Houston</td>\n",
       "      <td>Rain</td>\n",
       "      <td>1</td>\n",
       "      <td>Monday</td>\n",
       "      <td>11</td>\n",
       "      <td>3</td>\n",
       "      <td>0</td>\n",
       "    </tr>\n",
       "    <tr>\n",
       "      <th>1</th>\n",
       "      <td>2</td>\n",
       "      <td>Phoenix</td>\n",
       "      <td>Thunderstorm</td>\n",
       "      <td>3</td>\n",
       "      <td>Sunday</td>\n",
       "      <td>23</td>\n",
       "      <td>1</td>\n",
       "      <td>0</td>\n",
       "    </tr>\n",
       "    <tr>\n",
       "      <th>2</th>\n",
       "      <td>3</td>\n",
       "      <td>Chicago</td>\n",
       "      <td>Fog</td>\n",
       "      <td>1</td>\n",
       "      <td>Friday</td>\n",
       "      <td>22</td>\n",
       "      <td>0</td>\n",
       "      <td>0</td>\n",
       "    </tr>\n",
       "    <tr>\n",
       "      <th>3</th>\n",
       "      <td>4</td>\n",
       "      <td>Phoenix</td>\n",
       "      <td>Fog</td>\n",
       "      <td>1</td>\n",
       "      <td>Friday</td>\n",
       "      <td>8</td>\n",
       "      <td>1</td>\n",
       "      <td>0</td>\n",
       "    </tr>\n",
       "    <tr>\n",
       "      <th>4</th>\n",
       "      <td>5</td>\n",
       "      <td>Phoenix</td>\n",
       "      <td>Thunderstorm</td>\n",
       "      <td>2</td>\n",
       "      <td>Tuesday</td>\n",
       "      <td>2</td>\n",
       "      <td>1</td>\n",
       "      <td>0</td>\n",
       "    </tr>\n",
       "    <tr>\n",
       "      <th>...</th>\n",
       "      <td>...</td>\n",
       "      <td>...</td>\n",
       "      <td>...</td>\n",
       "      <td>...</td>\n",
       "      <td>...</td>\n",
       "      <td>...</td>\n",
       "      <td>...</td>\n",
       "      <td>...</td>\n",
       "    </tr>\n",
       "    <tr>\n",
       "      <th>4995</th>\n",
       "      <td>4996</td>\n",
       "      <td>Houston</td>\n",
       "      <td>Rain</td>\n",
       "      <td>2</td>\n",
       "      <td>Wednesday</td>\n",
       "      <td>3</td>\n",
       "      <td>0</td>\n",
       "      <td>0</td>\n",
       "    </tr>\n",
       "    <tr>\n",
       "      <th>4996</th>\n",
       "      <td>4997</td>\n",
       "      <td>Houston</td>\n",
       "      <td>Snow</td>\n",
       "      <td>3</td>\n",
       "      <td>Thursday</td>\n",
       "      <td>14</td>\n",
       "      <td>2</td>\n",
       "      <td>0</td>\n",
       "    </tr>\n",
       "    <tr>\n",
       "      <th>4997</th>\n",
       "      <td>4998</td>\n",
       "      <td>Phoenix</td>\n",
       "      <td>Rain</td>\n",
       "      <td>4</td>\n",
       "      <td>Saturday</td>\n",
       "      <td>20</td>\n",
       "      <td>3</td>\n",
       "      <td>0</td>\n",
       "    </tr>\n",
       "    <tr>\n",
       "      <th>4998</th>\n",
       "      <td>4999</td>\n",
       "      <td>Houston</td>\n",
       "      <td>Fog</td>\n",
       "      <td>3</td>\n",
       "      <td>Friday</td>\n",
       "      <td>15</td>\n",
       "      <td>2</td>\n",
       "      <td>0</td>\n",
       "    </tr>\n",
       "    <tr>\n",
       "      <th>4999</th>\n",
       "      <td>5000</td>\n",
       "      <td>Phoenix</td>\n",
       "      <td>Snow</td>\n",
       "      <td>1</td>\n",
       "      <td>Friday</td>\n",
       "      <td>14</td>\n",
       "      <td>4</td>\n",
       "      <td>0</td>\n",
       "    </tr>\n",
       "  </tbody>\n",
       "</table>\n",
       "<p>5000 rows × 8 columns</p>\n",
       "</div>"
      ],
      "text/plain": [
       "      Accident_ID     City     Condition  Severity Day_of_Week  Hour  \\\n",
       "0               1  Houston          Rain         1      Monday    11   \n",
       "1               2  Phoenix  Thunderstorm         3      Sunday    23   \n",
       "2               3  Chicago           Fog         1      Friday    22   \n",
       "3               4  Phoenix           Fog         1      Friday     8   \n",
       "4               5  Phoenix  Thunderstorm         2     Tuesday     2   \n",
       "...           ...      ...           ...       ...         ...   ...   \n",
       "4995         4996  Houston          Rain         2   Wednesday     3   \n",
       "4996         4997  Houston          Snow         3    Thursday    14   \n",
       "4997         4998  Phoenix          Rain         4    Saturday    20   \n",
       "4998         4999  Houston           Fog         3      Friday    15   \n",
       "4999         5000  Phoenix          Snow         1      Friday    14   \n",
       "\n",
       "      Injuries  Fatalities  \n",
       "0            3           0  \n",
       "1            1           0  \n",
       "2            0           0  \n",
       "3            1           0  \n",
       "4            1           0  \n",
       "...        ...         ...  \n",
       "4995         0           0  \n",
       "4996         2           0  \n",
       "4997         3           0  \n",
       "4998         2           0  \n",
       "4999         4           0  \n",
       "\n",
       "[5000 rows x 8 columns]"
      ]
     },
     "execution_count": 7,
     "metadata": {},
     "output_type": "execute_result"
    }
   ],
   "source": [
    "df_duplicado=df.drop_duplicates(subset='Accident_ID')\n",
    "df_duplicado"
   ]
  },
  {
   "cell_type": "markdown",
   "metadata": {},
   "source": [
    "##### . Convierte las columnas a los tipos de datos apropiados (por ejemplo, fechas, categorías, números)."
   ]
  },
  {
   "cell_type": "code",
   "execution_count": 8,
   "metadata": {},
   "outputs": [
    {
     "data": {
      "text/plain": [
       "array([<class 'str'>], dtype=object)"
      ]
     },
     "execution_count": 8,
     "metadata": {},
     "output_type": "execute_result"
    }
   ],
   "source": [
    "\n",
    "df['Condition']=df['Condition'].astype(str)\n",
    "type(df['Condition'])\n",
    "df['Condition'].apply(type).unique()\n"
   ]
  },
  {
   "cell_type": "code",
   "execution_count": 9,
   "metadata": {},
   "outputs": [
    {
     "data": {
      "text/plain": [
       "2044"
      ]
     },
     "execution_count": 9,
     "metadata": {},
     "output_type": "execute_result"
    }
   ],
   "source": [
    "# Vamos agrupar valores y ordenarlos\n",
    "\n",
    "city_severity=df.groupby(['City'])['Severity'].sum()\n",
    "city_severity.sort_values(ascending=False)\n",
    "city_severity\n",
    "\n",
    "max_city_severity=city_severity.max()\n",
    "max_city_severity\n"
   ]
  },
  {
   "cell_type": "code",
   "execution_count": 10,
   "metadata": {},
   "outputs": [
    {
     "data": {
      "text/html": [
       "<div>\n",
       "<style scoped>\n",
       "    .dataframe tbody tr th:only-of-type {\n",
       "        vertical-align: middle;\n",
       "    }\n",
       "\n",
       "    .dataframe tbody tr th {\n",
       "        vertical-align: top;\n",
       "    }\n",
       "\n",
       "    .dataframe thead th {\n",
       "        text-align: right;\n",
       "    }\n",
       "</style>\n",
       "<table border=\"1\" class=\"dataframe\">\n",
       "  <thead>\n",
       "    <tr style=\"text-align: right;\">\n",
       "      <th></th>\n",
       "      <th>Accident_ID</th>\n",
       "      <th>City</th>\n",
       "      <th>Condition</th>\n",
       "      <th>Severity</th>\n",
       "      <th>Day_of_Week</th>\n",
       "      <th>Hour</th>\n",
       "      <th>Injuries</th>\n",
       "      <th>Fatalities</th>\n",
       "      <th>Average Fatalities</th>\n",
       "    </tr>\n",
       "  </thead>\n",
       "  <tbody>\n",
       "    <tr>\n",
       "      <th>0</th>\n",
       "      <td>1</td>\n",
       "      <td>Houston</td>\n",
       "      <td>Rain</td>\n",
       "      <td>1</td>\n",
       "      <td>Monday</td>\n",
       "      <td>11</td>\n",
       "      <td>3</td>\n",
       "      <td>0</td>\n",
       "      <td>263.0</td>\n",
       "    </tr>\n",
       "    <tr>\n",
       "      <th>1</th>\n",
       "      <td>2</td>\n",
       "      <td>Phoenix</td>\n",
       "      <td>Thunderstorm</td>\n",
       "      <td>3</td>\n",
       "      <td>Sunday</td>\n",
       "      <td>23</td>\n",
       "      <td>1</td>\n",
       "      <td>0</td>\n",
       "      <td>263.0</td>\n",
       "    </tr>\n",
       "    <tr>\n",
       "      <th>2</th>\n",
       "      <td>3</td>\n",
       "      <td>Chicago</td>\n",
       "      <td>Fog</td>\n",
       "      <td>1</td>\n",
       "      <td>Friday</td>\n",
       "      <td>22</td>\n",
       "      <td>0</td>\n",
       "      <td>0</td>\n",
       "      <td>263.0</td>\n",
       "    </tr>\n",
       "    <tr>\n",
       "      <th>3</th>\n",
       "      <td>4</td>\n",
       "      <td>Phoenix</td>\n",
       "      <td>Fog</td>\n",
       "      <td>1</td>\n",
       "      <td>Friday</td>\n",
       "      <td>8</td>\n",
       "      <td>1</td>\n",
       "      <td>0</td>\n",
       "      <td>263.0</td>\n",
       "    </tr>\n",
       "    <tr>\n",
       "      <th>4</th>\n",
       "      <td>5</td>\n",
       "      <td>Phoenix</td>\n",
       "      <td>Thunderstorm</td>\n",
       "      <td>2</td>\n",
       "      <td>Tuesday</td>\n",
       "      <td>2</td>\n",
       "      <td>1</td>\n",
       "      <td>0</td>\n",
       "      <td>263.0</td>\n",
       "    </tr>\n",
       "    <tr>\n",
       "      <th>...</th>\n",
       "      <td>...</td>\n",
       "      <td>...</td>\n",
       "      <td>...</td>\n",
       "      <td>...</td>\n",
       "      <td>...</td>\n",
       "      <td>...</td>\n",
       "      <td>...</td>\n",
       "      <td>...</td>\n",
       "      <td>...</td>\n",
       "    </tr>\n",
       "    <tr>\n",
       "      <th>4995</th>\n",
       "      <td>4996</td>\n",
       "      <td>Houston</td>\n",
       "      <td>Rain</td>\n",
       "      <td>2</td>\n",
       "      <td>Wednesday</td>\n",
       "      <td>3</td>\n",
       "      <td>0</td>\n",
       "      <td>0</td>\n",
       "      <td>263.0</td>\n",
       "    </tr>\n",
       "    <tr>\n",
       "      <th>4996</th>\n",
       "      <td>4997</td>\n",
       "      <td>Houston</td>\n",
       "      <td>Snow</td>\n",
       "      <td>3</td>\n",
       "      <td>Thursday</td>\n",
       "      <td>14</td>\n",
       "      <td>2</td>\n",
       "      <td>0</td>\n",
       "      <td>263.0</td>\n",
       "    </tr>\n",
       "    <tr>\n",
       "      <th>4997</th>\n",
       "      <td>4998</td>\n",
       "      <td>Phoenix</td>\n",
       "      <td>Rain</td>\n",
       "      <td>4</td>\n",
       "      <td>Saturday</td>\n",
       "      <td>20</td>\n",
       "      <td>3</td>\n",
       "      <td>0</td>\n",
       "      <td>263.0</td>\n",
       "    </tr>\n",
       "    <tr>\n",
       "      <th>4998</th>\n",
       "      <td>4999</td>\n",
       "      <td>Houston</td>\n",
       "      <td>Fog</td>\n",
       "      <td>3</td>\n",
       "      <td>Friday</td>\n",
       "      <td>15</td>\n",
       "      <td>2</td>\n",
       "      <td>0</td>\n",
       "      <td>263.0</td>\n",
       "    </tr>\n",
       "    <tr>\n",
       "      <th>4999</th>\n",
       "      <td>5000</td>\n",
       "      <td>Phoenix</td>\n",
       "      <td>Snow</td>\n",
       "      <td>1</td>\n",
       "      <td>Friday</td>\n",
       "      <td>14</td>\n",
       "      <td>4</td>\n",
       "      <td>0</td>\n",
       "      <td>263.0</td>\n",
       "    </tr>\n",
       "  </tbody>\n",
       "</table>\n",
       "<p>5000 rows × 9 columns</p>\n",
       "</div>"
      ],
      "text/plain": [
       "      Accident_ID     City     Condition  Severity Day_of_Week  Hour  \\\n",
       "0               1  Houston          Rain         1      Monday    11   \n",
       "1               2  Phoenix  Thunderstorm         3      Sunday    23   \n",
       "2               3  Chicago           Fog         1      Friday    22   \n",
       "3               4  Phoenix           Fog         1      Friday     8   \n",
       "4               5  Phoenix  Thunderstorm         2     Tuesday     2   \n",
       "...           ...      ...           ...       ...         ...   ...   \n",
       "4995         4996  Houston          Rain         2   Wednesday     3   \n",
       "4996         4997  Houston          Snow         3    Thursday    14   \n",
       "4997         4998  Phoenix          Rain         4    Saturday    20   \n",
       "4998         4999  Houston           Fog         3      Friday    15   \n",
       "4999         5000  Phoenix          Snow         1      Friday    14   \n",
       "\n",
       "      Injuries  Fatalities  Average Fatalities  \n",
       "0            3           0               263.0  \n",
       "1            1           0               263.0  \n",
       "2            0           0               263.0  \n",
       "3            1           0               263.0  \n",
       "4            1           0               263.0  \n",
       "...        ...         ...                 ...  \n",
       "4995         0           0               263.0  \n",
       "4996         2           0               263.0  \n",
       "4997         3           0               263.0  \n",
       "4998         2           0               263.0  \n",
       "4999         4           0               263.0  \n",
       "\n",
       "[5000 rows x 9 columns]"
      ]
     },
     "execution_count": 10,
     "metadata": {},
     "output_type": "execute_result"
    }
   ],
   "source": [
    "df['Average Fatalities']=df['Fatalities'].sum().mean()\n",
    "df\n"
   ]
  },
  {
   "cell_type": "markdown",
   "metadata": {},
   "source": [
    "### 2. Análisis Exploratorio de Datos (EDA)\n"
   ]
  },
  {
   "cell_type": "markdown",
   "metadata": {},
   "source": [
    "##### . Calcula estadísticas descriptivas para todas las columnas numéricas (media, mediana, desviación estándar, etc.)."
   ]
  },
  {
   "cell_type": "code",
   "execution_count": 11,
   "metadata": {},
   "outputs": [
    {
     "name": "stdout",
     "output_type": "stream",
     "text": [
      "La mediana de la gravedad: 2.0\n"
     ]
    }
   ],
   "source": [
    "mediana_gravedad=df['Severity'].median()\n",
    "print(f\"La mediana de la gravedad: {mediana_gravedad}\")"
   ]
  },
  {
   "cell_type": "code",
   "execution_count": 12,
   "metadata": {},
   "outputs": [
    {
     "name": "stdout",
     "output_type": "stream",
     "text": [
      "La desviación estándar es de: 1443.5200033252052\n"
     ]
    }
   ],
   "source": [
    "promedio_de_std=df['Accident_ID'].std()\n",
    "print(f'La desviación estándar es de: {promedio_de_std}')"
   ]
  },
  {
   "cell_type": "markdown",
   "metadata": {},
   "source": [
    "##### . Identifica cuáles son las ciudades con más accidentes.\n"
   ]
  },
  {
   "cell_type": "code",
   "execution_count": 13,
   "metadata": {},
   "outputs": [
    {
     "data": {
      "text/plain": [
       "City\n",
       "New York       10\n",
       "Houston         9\n",
       "Phoenix         9\n",
       "Chicago         8\n",
       "Los Angeles     7\n",
       "Name: Injuries, dtype: int64"
      ]
     },
     "execution_count": 13,
     "metadata": {},
     "output_type": "execute_result"
    }
   ],
   "source": [
    "severity_injuries=df.groupby('City')['Injuries'].max()\n",
    "df_ordenado=severity_injuries.sort_values(ascending=False).head(10)\n",
    "df_ordenado\n"
   ]
  },
  {
   "cell_type": "markdown",
   "metadata": {},
   "source": [
    "##### . Averigua en qué días de la semana ocurren más accidentes y en qué horas del día son más frecuentes."
   ]
  },
  {
   "cell_type": "code",
   "execution_count": 90,
   "metadata": {},
   "outputs": [
    {
     "data": {
      "text/plain": [
       "Day_of_Week  Hour\n",
       "Friday       0       37\n",
       "             1       51\n",
       "             2       54\n",
       "             3       70\n",
       "             4       53\n",
       "                     ..\n",
       "Wednesday    19      61\n",
       "             20      43\n",
       "             21      73\n",
       "             22      49\n",
       "             23      61\n",
       "Name: Severity, Length: 168, dtype: int64"
      ]
     },
     "execution_count": 90,
     "metadata": {},
     "output_type": "execute_result"
    }
   ],
   "source": [
    "day_of_week_and_hour=df.groupby(['Day_of_Week','Hour'])['Severity'].sum()\n",
    "day_of_week_and_hour"
   ]
  },
  {
   "cell_type": "markdown",
   "metadata": {},
   "source": [
    "##### Analiza la distribución de la severidad de los accidentes. ¿Cuál es la más común y cuál la menos frecuente?"
   ]
  },
  {
   "cell_type": "code",
   "execution_count": 68,
   "metadata": {},
   "outputs": [
    {
     "data": {
      "text/plain": [
       "Condition\n",
       "Clear           0.991927\n",
       "Fog             1.000499\n",
       "Rain            0.989901\n",
       "Snow            1.005195\n",
       "Thunderstorm    0.977175\n",
       "Name: Severity, dtype: float64"
      ]
     },
     "execution_count": 68,
     "metadata": {},
     "output_type": "execute_result"
    }
   ],
   "source": [
    "max_condition_severity=df.groupby('Condition')['Severity'].std()\n",
    "\n",
    "max_condition_severity"
   ]
  },
  {
   "cell_type": "code",
   "execution_count": 69,
   "metadata": {},
   "outputs": [
    {
     "data": {
      "text/plain": [
       "1.0051953804448015"
      ]
     },
     "execution_count": 69,
     "metadata": {},
     "output_type": "execute_result"
    }
   ],
   "source": [
    "max_condition_severity=df.groupby('Condition')['Severity'].std().max()\n",
    "\n",
    "max_condition_severity"
   ]
  },
  {
   "cell_type": "code",
   "execution_count": 70,
   "metadata": {},
   "outputs": [
    {
     "data": {
      "text/plain": [
       "0.9771749762184857"
      ]
     },
     "execution_count": 70,
     "metadata": {},
     "output_type": "execute_result"
    }
   ],
   "source": [
    "min_condition_severity=df.groupby('Condition')['Severity'].std().min()\n",
    "\n",
    "min_condition_severity"
   ]
  },
  {
   "cell_type": "markdown",
   "metadata": {},
   "source": [
    "#### Determina las condiciones climáticas más asociadas a accidentes graves.\n"
   ]
  },
  {
   "cell_type": "code",
   "execution_count": 81,
   "metadata": {},
   "outputs": [
    {
     "data": {
      "text/html": [
       "<div>\n",
       "<style scoped>\n",
       "    .dataframe tbody tr th:only-of-type {\n",
       "        vertical-align: middle;\n",
       "    }\n",
       "\n",
       "    .dataframe tbody tr th {\n",
       "        vertical-align: top;\n",
       "    }\n",
       "\n",
       "    .dataframe thead th {\n",
       "        text-align: right;\n",
       "    }\n",
       "</style>\n",
       "<table border=\"1\" class=\"dataframe\">\n",
       "  <thead>\n",
       "    <tr style=\"text-align: right;\">\n",
       "      <th></th>\n",
       "      <th></th>\n",
       "      <th>sum</th>\n",
       "      <th>mean</th>\n",
       "      <th>max</th>\n",
       "    </tr>\n",
       "    <tr>\n",
       "      <th>City</th>\n",
       "      <th>Condition</th>\n",
       "      <th></th>\n",
       "      <th></th>\n",
       "      <th></th>\n",
       "    </tr>\n",
       "  </thead>\n",
       "  <tbody>\n",
       "    <tr>\n",
       "      <th>Phoenix</th>\n",
       "      <th>Thunderstorm</th>\n",
       "      <td>819</td>\n",
       "      <td>3.956522</td>\n",
       "      <td>11</td>\n",
       "    </tr>\n",
       "    <tr>\n",
       "      <th>Chicago</th>\n",
       "      <th>Thunderstorm</th>\n",
       "      <td>828</td>\n",
       "      <td>4.181818</td>\n",
       "      <td>10</td>\n",
       "    </tr>\n",
       "    <tr>\n",
       "      <th>New York</th>\n",
       "      <th>Thunderstorm</th>\n",
       "      <td>816</td>\n",
       "      <td>3.923077</td>\n",
       "      <td>10</td>\n",
       "    </tr>\n",
       "  </tbody>\n",
       "</table>\n",
       "</div>"
      ],
      "text/plain": [
       "                       sum      mean  max\n",
       "City     Condition                       \n",
       "Phoenix  Thunderstorm  819  3.956522   11\n",
       "Chicago  Thunderstorm  828  4.181818   10\n",
       "New York Thunderstorm  816  3.923077   10"
      ]
     },
     "execution_count": 81,
     "metadata": {},
     "output_type": "execute_result"
    }
   ],
   "source": [
    "df['Serious Accidents']=df['Severity'] + df['Injuries']\n",
    "\n",
    "conditions_serious_accidents=df.groupby(['City','Condition'])['Serious Accidents'].agg(['sum','mean','max'])\n",
    "conditions_serious_accidents.sort_values(by='Condition',ascending=False).head(3)\n",
    "\n",
    "\n"
   ]
  },
  {
   "cell_type": "markdown",
   "metadata": {},
   "source": [
    "### 3. Análisis de Correlaciones\n"
   ]
  },
  {
   "cell_type": "markdown",
   "metadata": {},
   "source": [
    "##### Calcula la correlación entre la severidad, el número de lesiones y las fatalidades.\n"
   ]
  },
  {
   "cell_type": "code",
   "execution_count": 19,
   "metadata": {},
   "outputs": [
    {
     "data": {
      "text/html": [
       "<div>\n",
       "<style scoped>\n",
       "    .dataframe tbody tr th:only-of-type {\n",
       "        vertical-align: middle;\n",
       "    }\n",
       "\n",
       "    .dataframe tbody tr th {\n",
       "        vertical-align: top;\n",
       "    }\n",
       "\n",
       "    .dataframe thead th {\n",
       "        text-align: right;\n",
       "    }\n",
       "</style>\n",
       "<table border=\"1\" class=\"dataframe\">\n",
       "  <thead>\n",
       "    <tr style=\"text-align: right;\">\n",
       "      <th></th>\n",
       "      <th>Severity</th>\n",
       "      <th>Injuries</th>\n",
       "      <th>Fatalities</th>\n",
       "    </tr>\n",
       "  </thead>\n",
       "  <tbody>\n",
       "    <tr>\n",
       "      <th>Severity</th>\n",
       "      <td>1.000000</td>\n",
       "      <td>0.010817</td>\n",
       "      <td>-0.011877</td>\n",
       "    </tr>\n",
       "    <tr>\n",
       "      <th>Injuries</th>\n",
       "      <td>0.010817</td>\n",
       "      <td>1.000000</td>\n",
       "      <td>0.016396</td>\n",
       "    </tr>\n",
       "    <tr>\n",
       "      <th>Fatalities</th>\n",
       "      <td>-0.011877</td>\n",
       "      <td>0.016396</td>\n",
       "      <td>1.000000</td>\n",
       "    </tr>\n",
       "  </tbody>\n",
       "</table>\n",
       "</div>"
      ],
      "text/plain": [
       "            Severity  Injuries  Fatalities\n",
       "Severity    1.000000  0.010817   -0.011877\n",
       "Injuries    0.010817  1.000000    0.016396\n",
       "Fatalities -0.011877  0.016396    1.000000"
      ]
     },
     "execution_count": 19,
     "metadata": {},
     "output_type": "execute_result"
    }
   ],
   "source": [
    "correlation_matrix=df[['Severity','Injuries','Fatalities']].corr()\n",
    "correlation_matrix"
   ]
  },
  {
   "cell_type": "code",
   "execution_count": 20,
   "metadata": {},
   "outputs": [
    {
     "data": {
      "text/plain": [
       "Hour\n",
       "0     1.965686\n",
       "1     2.009390\n",
       "2     1.995215\n",
       "3     2.117647\n",
       "4     1.949749\n",
       "5     1.944186\n",
       "6     1.945701\n",
       "7     1.969231\n",
       "8     1.966480\n",
       "9     1.995455\n",
       "10    1.941748\n",
       "11    2.060185\n",
       "12    1.963801\n",
       "13    2.034483\n",
       "14    2.085000\n",
       "15    2.009132\n",
       "16    1.968182\n",
       "17    1.986667\n",
       "18    2.009901\n",
       "19    1.922727\n",
       "20    1.958333\n",
       "21    2.053812\n",
       "22    1.973822\n",
       "23    1.994624\n",
       "Name: Severity, dtype: float64"
      ]
     },
     "execution_count": 20,
     "metadata": {},
     "output_type": "execute_result"
    }
   ],
   "source": [
    "hour_severity=df.groupby('Hour')['Severity'].mean()\n",
    "hour_severity"
   ]
  },
  {
   "cell_type": "code",
   "execution_count": 21,
   "metadata": {},
   "outputs": [
    {
     "data": {
      "text/plain": [
       "2.1176470588235294"
      ]
     },
     "execution_count": 21,
     "metadata": {},
     "output_type": "execute_result"
    }
   ],
   "source": [
    "# A las 3 de la mañana se producen los accidentes más graves\n",
    "hour_severity.max()\n"
   ]
  },
  {
   "cell_type": "markdown",
   "metadata": {},
   "source": [
    "#### Analiza si hay relación entre la hora del día y la severidad de los accidentes.\n"
   ]
  },
  {
   "cell_type": "code",
   "execution_count": 22,
   "metadata": {},
   "outputs": [
    {
     "data": {
      "text/plain": [
       "array([[1.0000000e+00, 7.9325239e-05],\n",
       "       [7.9325239e-05, 1.0000000e+00]])"
      ]
     },
     "execution_count": 22,
     "metadata": {},
     "output_type": "execute_result"
    }
   ],
   "source": [
    "import numpy as np\n",
    "correlation=np.corrcoef(df['Hour'],df['Severity'])\n",
    "correlation\n"
   ]
  },
  {
   "cell_type": "code",
   "execution_count": 23,
   "metadata": {},
   "outputs": [
    {
     "data": {
      "text/plain": [
       "Condition\n",
       "Clear           1.974708\n",
       "Fog             2.092133\n",
       "Rain            2.007612\n",
       "Snow            1.980208\n",
       "Thunderstorm    2.077387\n",
       "Name: Injuries, dtype: float64"
      ]
     },
     "execution_count": 23,
     "metadata": {},
     "output_type": "execute_result"
    }
   ],
   "source": [
    "condition_injuries=df.groupby('Condition')['Injuries'].mean()\n",
    "condition_injuries"
   ]
  },
  {
   "cell_type": "code",
   "execution_count": 24,
   "metadata": {},
   "outputs": [
    {
     "data": {
      "text/plain": [
       "Condition\n",
       "Clear            9\n",
       "Fog             10\n",
       "Rain             8\n",
       "Snow             7\n",
       "Thunderstorm     7\n",
       "Name: Injuries, dtype: int64"
      ]
     },
     "execution_count": 24,
     "metadata": {},
     "output_type": "execute_result"
    }
   ],
   "source": [
    "condition_injuries=df.groupby('Condition')['Injuries'].max()\n",
    "condition_injuries"
   ]
  },
  {
   "cell_type": "code",
   "execution_count": 25,
   "metadata": {},
   "outputs": [
    {
     "data": {
      "text/plain": [
       "Condition\n",
       "Clear           1.386168\n",
       "Fog             1.532650\n",
       "Rain            1.402019\n",
       "Snow            1.380870\n",
       "Thunderstorm    1.458701\n",
       "Name: Injuries, dtype: float64"
      ]
     },
     "execution_count": 25,
     "metadata": {},
     "output_type": "execute_result"
    }
   ],
   "source": [
    "condition_injuries=df.groupby('Condition')['Injuries'].std()\n",
    "condition_injuries"
   ]
  },
  {
   "cell_type": "markdown",
   "metadata": {},
   "source": [
    "### 4. Agrupaciones y Resúmenes\n"
   ]
  },
  {
   "cell_type": "markdown",
   "metadata": {},
   "source": [
    "#### El promedio de severidad de los accidentes por ciudad.\n"
   ]
  },
  {
   "cell_type": "code",
   "execution_count": 26,
   "metadata": {},
   "outputs": [
    {
     "data": {
      "text/plain": [
       "City\n",
       "Chicago        1.006222\n",
       "Houston        0.999951\n",
       "Los Angeles    0.985744\n",
       "New York       0.995356\n",
       "Phoenix        0.976750\n",
       "Name: Severity, dtype: float64"
      ]
     },
     "execution_count": 26,
     "metadata": {},
     "output_type": "execute_result"
    }
   ],
   "source": [
    "city_severity_std=df.groupby('City')['Severity'].std()\n",
    "city_severity_std"
   ]
  },
  {
   "cell_type": "code",
   "execution_count": 27,
   "metadata": {},
   "outputs": [],
   "source": [
    "df['Average Injuries']=df['Injuries'].mean()"
   ]
  },
  {
   "cell_type": "code",
   "execution_count": 28,
   "metadata": {},
   "outputs": [
    {
     "data": {
      "text/html": [
       "<div>\n",
       "<style scoped>\n",
       "    .dataframe tbody tr th:only-of-type {\n",
       "        vertical-align: middle;\n",
       "    }\n",
       "\n",
       "    .dataframe tbody tr th {\n",
       "        vertical-align: top;\n",
       "    }\n",
       "\n",
       "    .dataframe thead th {\n",
       "        text-align: right;\n",
       "    }\n",
       "</style>\n",
       "<table border=\"1\" class=\"dataframe\">\n",
       "  <thead>\n",
       "    <tr style=\"text-align: right;\">\n",
       "      <th></th>\n",
       "      <th>Accident_ID</th>\n",
       "      <th>City</th>\n",
       "      <th>Condition</th>\n",
       "      <th>Severity</th>\n",
       "      <th>Day_of_Week</th>\n",
       "      <th>Hour</th>\n",
       "      <th>Injuries</th>\n",
       "      <th>Fatalities</th>\n",
       "      <th>Average Fatalities</th>\n",
       "      <th>Serious Accidents</th>\n",
       "      <th>Average Injuries</th>\n",
       "    </tr>\n",
       "  </thead>\n",
       "  <tbody>\n",
       "    <tr>\n",
       "      <th>0</th>\n",
       "      <td>1</td>\n",
       "      <td>Houston</td>\n",
       "      <td>Rain</td>\n",
       "      <td>1</td>\n",
       "      <td>Monday</td>\n",
       "      <td>11</td>\n",
       "      <td>3</td>\n",
       "      <td>0</td>\n",
       "      <td>0.0526</td>\n",
       "      <td>4</td>\n",
       "      <td>2.0258</td>\n",
       "    </tr>\n",
       "    <tr>\n",
       "      <th>1</th>\n",
       "      <td>2</td>\n",
       "      <td>Phoenix</td>\n",
       "      <td>Thunderstorm</td>\n",
       "      <td>3</td>\n",
       "      <td>Sunday</td>\n",
       "      <td>23</td>\n",
       "      <td>1</td>\n",
       "      <td>0</td>\n",
       "      <td>0.0526</td>\n",
       "      <td>4</td>\n",
       "      <td>2.0258</td>\n",
       "    </tr>\n",
       "    <tr>\n",
       "      <th>2</th>\n",
       "      <td>3</td>\n",
       "      <td>Chicago</td>\n",
       "      <td>Fog</td>\n",
       "      <td>1</td>\n",
       "      <td>Friday</td>\n",
       "      <td>22</td>\n",
       "      <td>0</td>\n",
       "      <td>0</td>\n",
       "      <td>0.0526</td>\n",
       "      <td>1</td>\n",
       "      <td>2.0258</td>\n",
       "    </tr>\n",
       "    <tr>\n",
       "      <th>3</th>\n",
       "      <td>4</td>\n",
       "      <td>Phoenix</td>\n",
       "      <td>Fog</td>\n",
       "      <td>1</td>\n",
       "      <td>Friday</td>\n",
       "      <td>8</td>\n",
       "      <td>1</td>\n",
       "      <td>0</td>\n",
       "      <td>0.0526</td>\n",
       "      <td>2</td>\n",
       "      <td>2.0258</td>\n",
       "    </tr>\n",
       "    <tr>\n",
       "      <th>4</th>\n",
       "      <td>5</td>\n",
       "      <td>Phoenix</td>\n",
       "      <td>Thunderstorm</td>\n",
       "      <td>2</td>\n",
       "      <td>Tuesday</td>\n",
       "      <td>2</td>\n",
       "      <td>1</td>\n",
       "      <td>0</td>\n",
       "      <td>0.0526</td>\n",
       "      <td>3</td>\n",
       "      <td>2.0258</td>\n",
       "    </tr>\n",
       "    <tr>\n",
       "      <th>...</th>\n",
       "      <td>...</td>\n",
       "      <td>...</td>\n",
       "      <td>...</td>\n",
       "      <td>...</td>\n",
       "      <td>...</td>\n",
       "      <td>...</td>\n",
       "      <td>...</td>\n",
       "      <td>...</td>\n",
       "      <td>...</td>\n",
       "      <td>...</td>\n",
       "      <td>...</td>\n",
       "    </tr>\n",
       "    <tr>\n",
       "      <th>4995</th>\n",
       "      <td>4996</td>\n",
       "      <td>Houston</td>\n",
       "      <td>Rain</td>\n",
       "      <td>2</td>\n",
       "      <td>Wednesday</td>\n",
       "      <td>3</td>\n",
       "      <td>0</td>\n",
       "      <td>0</td>\n",
       "      <td>0.0526</td>\n",
       "      <td>2</td>\n",
       "      <td>2.0258</td>\n",
       "    </tr>\n",
       "    <tr>\n",
       "      <th>4996</th>\n",
       "      <td>4997</td>\n",
       "      <td>Houston</td>\n",
       "      <td>Snow</td>\n",
       "      <td>3</td>\n",
       "      <td>Thursday</td>\n",
       "      <td>14</td>\n",
       "      <td>2</td>\n",
       "      <td>0</td>\n",
       "      <td>0.0526</td>\n",
       "      <td>5</td>\n",
       "      <td>2.0258</td>\n",
       "    </tr>\n",
       "    <tr>\n",
       "      <th>4997</th>\n",
       "      <td>4998</td>\n",
       "      <td>Phoenix</td>\n",
       "      <td>Rain</td>\n",
       "      <td>4</td>\n",
       "      <td>Saturday</td>\n",
       "      <td>20</td>\n",
       "      <td>3</td>\n",
       "      <td>0</td>\n",
       "      <td>0.0526</td>\n",
       "      <td>7</td>\n",
       "      <td>2.0258</td>\n",
       "    </tr>\n",
       "    <tr>\n",
       "      <th>4998</th>\n",
       "      <td>4999</td>\n",
       "      <td>Houston</td>\n",
       "      <td>Fog</td>\n",
       "      <td>3</td>\n",
       "      <td>Friday</td>\n",
       "      <td>15</td>\n",
       "      <td>2</td>\n",
       "      <td>0</td>\n",
       "      <td>0.0526</td>\n",
       "      <td>5</td>\n",
       "      <td>2.0258</td>\n",
       "    </tr>\n",
       "    <tr>\n",
       "      <th>4999</th>\n",
       "      <td>5000</td>\n",
       "      <td>Phoenix</td>\n",
       "      <td>Snow</td>\n",
       "      <td>1</td>\n",
       "      <td>Friday</td>\n",
       "      <td>14</td>\n",
       "      <td>4</td>\n",
       "      <td>0</td>\n",
       "      <td>0.0526</td>\n",
       "      <td>5</td>\n",
       "      <td>2.0258</td>\n",
       "    </tr>\n",
       "  </tbody>\n",
       "</table>\n",
       "<p>5000 rows × 11 columns</p>\n",
       "</div>"
      ],
      "text/plain": [
       "      Accident_ID     City     Condition  Severity Day_of_Week  Hour  \\\n",
       "0               1  Houston          Rain         1      Monday    11   \n",
       "1               2  Phoenix  Thunderstorm         3      Sunday    23   \n",
       "2               3  Chicago           Fog         1      Friday    22   \n",
       "3               4  Phoenix           Fog         1      Friday     8   \n",
       "4               5  Phoenix  Thunderstorm         2     Tuesday     2   \n",
       "...           ...      ...           ...       ...         ...   ...   \n",
       "4995         4996  Houston          Rain         2   Wednesday     3   \n",
       "4996         4997  Houston          Snow         3    Thursday    14   \n",
       "4997         4998  Phoenix          Rain         4    Saturday    20   \n",
       "4998         4999  Houston           Fog         3      Friday    15   \n",
       "4999         5000  Phoenix          Snow         1      Friday    14   \n",
       "\n",
       "      Injuries  Fatalities  Average Fatalities  Serious Accidents  \\\n",
       "0            3           0              0.0526                  4   \n",
       "1            1           0              0.0526                  4   \n",
       "2            0           0              0.0526                  1   \n",
       "3            1           0              0.0526                  2   \n",
       "4            1           0              0.0526                  3   \n",
       "...        ...         ...                 ...                ...   \n",
       "4995         0           0              0.0526                  2   \n",
       "4996         2           0              0.0526                  5   \n",
       "4997         3           0              0.0526                  7   \n",
       "4998         2           0              0.0526                  5   \n",
       "4999         4           0              0.0526                  5   \n",
       "\n",
       "      Average Injuries  \n",
       "0               2.0258  \n",
       "1               2.0258  \n",
       "2               2.0258  \n",
       "3               2.0258  \n",
       "4               2.0258  \n",
       "...                ...  \n",
       "4995            2.0258  \n",
       "4996            2.0258  \n",
       "4997            2.0258  \n",
       "4998            2.0258  \n",
       "4999            2.0258  \n",
       "\n",
       "[5000 rows x 11 columns]"
      ]
     },
     "execution_count": 28,
     "metadata": {},
     "output_type": "execute_result"
    }
   ],
   "source": [
    "df['Average Fatalities']=df['Fatalities'].mean()\n",
    "df"
   ]
  },
  {
   "cell_type": "markdown",
   "metadata": {},
   "source": [
    "#### El total de lesiones y fatalidades en cada ciudad.\n"
   ]
  },
  {
   "cell_type": "code",
   "execution_count": 29,
   "metadata": {},
   "outputs": [
    {
     "data": {
      "text/html": [
       "<div>\n",
       "<style scoped>\n",
       "    .dataframe tbody tr th:only-of-type {\n",
       "        vertical-align: middle;\n",
       "    }\n",
       "\n",
       "    .dataframe tbody tr th {\n",
       "        vertical-align: top;\n",
       "    }\n",
       "\n",
       "    .dataframe thead th {\n",
       "        text-align: right;\n",
       "    }\n",
       "</style>\n",
       "<table border=\"1\" class=\"dataframe\">\n",
       "  <thead>\n",
       "    <tr style=\"text-align: right;\">\n",
       "      <th></th>\n",
       "      <th>City</th>\n",
       "      <th>Injuries</th>\n",
       "      <th>Fatalities</th>\n",
       "    </tr>\n",
       "  </thead>\n",
       "  <tbody>\n",
       "    <tr>\n",
       "      <th>44</th>\n",
       "      <td>Phoenix</td>\n",
       "      <td>9</td>\n",
       "      <td>0</td>\n",
       "    </tr>\n",
       "    <tr>\n",
       "      <th>43</th>\n",
       "      <td>Phoenix</td>\n",
       "      <td>7</td>\n",
       "      <td>1</td>\n",
       "    </tr>\n",
       "    <tr>\n",
       "      <th>42</th>\n",
       "      <td>Phoenix</td>\n",
       "      <td>6</td>\n",
       "      <td>2</td>\n",
       "    </tr>\n",
       "    <tr>\n",
       "      <th>41</th>\n",
       "      <td>Phoenix</td>\n",
       "      <td>5</td>\n",
       "      <td>0</td>\n",
       "    </tr>\n",
       "    <tr>\n",
       "      <th>40</th>\n",
       "      <td>Phoenix</td>\n",
       "      <td>4</td>\n",
       "      <td>6</td>\n",
       "    </tr>\n",
       "    <tr>\n",
       "      <th>39</th>\n",
       "      <td>Phoenix</td>\n",
       "      <td>3</td>\n",
       "      <td>13</td>\n",
       "    </tr>\n",
       "    <tr>\n",
       "      <th>38</th>\n",
       "      <td>Phoenix</td>\n",
       "      <td>2</td>\n",
       "      <td>21</td>\n",
       "    </tr>\n",
       "    <tr>\n",
       "      <th>37</th>\n",
       "      <td>Phoenix</td>\n",
       "      <td>1</td>\n",
       "      <td>14</td>\n",
       "    </tr>\n",
       "    <tr>\n",
       "      <th>36</th>\n",
       "      <td>Phoenix</td>\n",
       "      <td>0</td>\n",
       "      <td>6</td>\n",
       "    </tr>\n",
       "    <tr>\n",
       "      <th>31</th>\n",
       "      <td>New York</td>\n",
       "      <td>4</td>\n",
       "      <td>4</td>\n",
       "    </tr>\n",
       "  </tbody>\n",
       "</table>\n",
       "</div>"
      ],
      "text/plain": [
       "        City  Injuries  Fatalities\n",
       "44   Phoenix         9           0\n",
       "43   Phoenix         7           1\n",
       "42   Phoenix         6           2\n",
       "41   Phoenix         5           0\n",
       "40   Phoenix         4           6\n",
       "39   Phoenix         3          13\n",
       "38   Phoenix         2          21\n",
       "37   Phoenix         1          14\n",
       "36   Phoenix         0           6\n",
       "31  New York         4           4"
      ]
     },
     "execution_count": 29,
     "metadata": {},
     "output_type": "execute_result"
    }
   ],
   "source": [
    "injuries_fatalities=df.groupby(['City','Injuries'])['Fatalities'].sum().reset_index()\n",
    "injuries_fatalities.sort_values(by='City',ascending=False).head(10)\n"
   ]
  },
  {
   "cell_type": "markdown",
   "metadata": {},
   "source": [
    "#### La cantidad promedio de accidentes por día"
   ]
  },
  {
   "cell_type": "code",
   "execution_count": 30,
   "metadata": {},
   "outputs": [
    {
     "data": {
      "text/plain": [
       "Day_of_Week\n",
       "Friday       1.982379\n",
       "Monday       1.962162\n",
       "Saturday     2.000000\n",
       "Sunday       2.018843\n",
       "Thursday     1.965672\n",
       "Tuesday      1.955466\n",
       "Wednesday    2.067239\n",
       "Name: Severity, dtype: float64"
      ]
     },
     "execution_count": 30,
     "metadata": {},
     "output_type": "execute_result"
    }
   ],
   "source": [
    "average_day_of_week_severity=df.groupby('Day_of_Week')['Severity'].mean()\n",
    "average_day_of_week_severity"
   ]
  },
  {
   "cell_type": "markdown",
   "metadata": {},
   "source": [
    "#### Las horas más críticas para cada día de la semana.\n",
    "\n"
   ]
  },
  {
   "cell_type": "code",
   "execution_count": 31,
   "metadata": {},
   "outputs": [
    {
     "data": {
      "text/html": [
       "<div>\n",
       "<style scoped>\n",
       "    .dataframe tbody tr th:only-of-type {\n",
       "        vertical-align: middle;\n",
       "    }\n",
       "\n",
       "    .dataframe tbody tr th {\n",
       "        vertical-align: top;\n",
       "    }\n",
       "\n",
       "    .dataframe thead th {\n",
       "        text-align: right;\n",
       "    }\n",
       "</style>\n",
       "<table border=\"1\" class=\"dataframe\">\n",
       "  <thead>\n",
       "    <tr style=\"text-align: right;\">\n",
       "      <th></th>\n",
       "      <th>Day_of_Week</th>\n",
       "      <th>Hour</th>\n",
       "      <th>Severity</th>\n",
       "    </tr>\n",
       "  </thead>\n",
       "  <tbody>\n",
       "    <tr>\n",
       "      <th>87</th>\n",
       "      <td>Sunday</td>\n",
       "      <td>15</td>\n",
       "      <td>95</td>\n",
       "    </tr>\n",
       "    <tr>\n",
       "      <th>83</th>\n",
       "      <td>Sunday</td>\n",
       "      <td>11</td>\n",
       "      <td>87</td>\n",
       "    </tr>\n",
       "    <tr>\n",
       "      <th>27</th>\n",
       "      <td>Monday</td>\n",
       "      <td>3</td>\n",
       "      <td>87</td>\n",
       "    </tr>\n",
       "    <tr>\n",
       "      <th>81</th>\n",
       "      <td>Sunday</td>\n",
       "      <td>9</td>\n",
       "      <td>80</td>\n",
       "    </tr>\n",
       "    <tr>\n",
       "      <th>45</th>\n",
       "      <td>Monday</td>\n",
       "      <td>21</td>\n",
       "      <td>77</td>\n",
       "    </tr>\n",
       "    <tr>\n",
       "      <th>...</th>\n",
       "      <td>...</td>\n",
       "      <td>...</td>\n",
       "      <td>...</td>\n",
       "    </tr>\n",
       "    <tr>\n",
       "      <th>114</th>\n",
       "      <td>Thursday</td>\n",
       "      <td>18</td>\n",
       "      <td>37</td>\n",
       "    </tr>\n",
       "    <tr>\n",
       "      <th>110</th>\n",
       "      <td>Thursday</td>\n",
       "      <td>14</td>\n",
       "      <td>37</td>\n",
       "    </tr>\n",
       "    <tr>\n",
       "      <th>58</th>\n",
       "      <td>Saturday</td>\n",
       "      <td>10</td>\n",
       "      <td>37</td>\n",
       "    </tr>\n",
       "    <tr>\n",
       "      <th>0</th>\n",
       "      <td>Friday</td>\n",
       "      <td>0</td>\n",
       "      <td>37</td>\n",
       "    </tr>\n",
       "    <tr>\n",
       "      <th>23</th>\n",
       "      <td>Friday</td>\n",
       "      <td>23</td>\n",
       "      <td>36</td>\n",
       "    </tr>\n",
       "  </tbody>\n",
       "</table>\n",
       "<p>168 rows × 3 columns</p>\n",
       "</div>"
      ],
      "text/plain": [
       "    Day_of_Week  Hour  Severity\n",
       "87       Sunday    15        95\n",
       "83       Sunday    11        87\n",
       "27       Monday     3        87\n",
       "81       Sunday     9        80\n",
       "45       Monday    21        77\n",
       "..          ...   ...       ...\n",
       "114    Thursday    18        37\n",
       "110    Thursday    14        37\n",
       "58     Saturday    10        37\n",
       "0        Friday     0        37\n",
       "23       Friday    23        36\n",
       "\n",
       "[168 rows x 3 columns]"
      ]
     },
     "execution_count": 31,
     "metadata": {},
     "output_type": "execute_result"
    }
   ],
   "source": [
    "hour_severity_day_of_week=df.groupby(['Day_of_Week','Hour'])['Severity'].sum().reset_index()\n",
    "hour_severity_day_of_week.sort_values(by=['Severity','Hour'],ascending=False)\n"
   ]
  },
  {
   "cell_type": "code",
   "execution_count": 32,
   "metadata": {},
   "outputs": [
    {
     "data": {
      "text/plain": [
       "1.993"
      ]
     },
     "execution_count": 32,
     "metadata": {},
     "output_type": "execute_result"
    }
   ],
   "source": [
    "severity=df['Severity'].mean()\n",
    "severity"
   ]
  },
  {
   "cell_type": "markdown",
   "metadata": {},
   "source": [
    "#### Genera un resumen de accidentes por tipo de condición climática.\n"
   ]
  },
  {
   "cell_type": "code",
   "execution_count": 33,
   "metadata": {},
   "outputs": [
    {
     "data": {
      "text/html": [
       "<div>\n",
       "<style scoped>\n",
       "    .dataframe tbody tr th:only-of-type {\n",
       "        vertical-align: middle;\n",
       "    }\n",
       "\n",
       "    .dataframe tbody tr th {\n",
       "        vertical-align: top;\n",
       "    }\n",
       "\n",
       "    .dataframe thead th {\n",
       "        text-align: right;\n",
       "    }\n",
       "</style>\n",
       "<table border=\"1\" class=\"dataframe\">\n",
       "  <thead>\n",
       "    <tr style=\"text-align: right;\">\n",
       "      <th></th>\n",
       "      <th>Accident_ID</th>\n",
       "      <th>City</th>\n",
       "      <th>Condition</th>\n",
       "      <th>Severity</th>\n",
       "      <th>Day_of_Week</th>\n",
       "      <th>Hour</th>\n",
       "      <th>Injuries</th>\n",
       "      <th>Fatalities</th>\n",
       "      <th>Average Fatalities</th>\n",
       "      <th>Serious Accidents</th>\n",
       "      <th>Average Injuries</th>\n",
       "      <th>Accidents sumarry</th>\n",
       "    </tr>\n",
       "  </thead>\n",
       "  <tbody>\n",
       "    <tr>\n",
       "      <th>0</th>\n",
       "      <td>1</td>\n",
       "      <td>Houston</td>\n",
       "      <td>Rain</td>\n",
       "      <td>1</td>\n",
       "      <td>Monday</td>\n",
       "      <td>11</td>\n",
       "      <td>3</td>\n",
       "      <td>0</td>\n",
       "      <td>0.0526</td>\n",
       "      <td>4</td>\n",
       "      <td>2.0258</td>\n",
       "      <td>2.032350</td>\n",
       "    </tr>\n",
       "    <tr>\n",
       "      <th>1</th>\n",
       "      <td>2</td>\n",
       "      <td>Phoenix</td>\n",
       "      <td>Thunderstorm</td>\n",
       "      <td>3</td>\n",
       "      <td>Sunday</td>\n",
       "      <td>23</td>\n",
       "      <td>1</td>\n",
       "      <td>0</td>\n",
       "      <td>0.0526</td>\n",
       "      <td>4</td>\n",
       "      <td>2.0258</td>\n",
       "      <td>1.956784</td>\n",
       "    </tr>\n",
       "    <tr>\n",
       "      <th>2</th>\n",
       "      <td>3</td>\n",
       "      <td>Chicago</td>\n",
       "      <td>Fog</td>\n",
       "      <td>1</td>\n",
       "      <td>Friday</td>\n",
       "      <td>22</td>\n",
       "      <td>0</td>\n",
       "      <td>0</td>\n",
       "      <td>0.0526</td>\n",
       "      <td>1</td>\n",
       "      <td>2.0258</td>\n",
       "      <td>1.993789</td>\n",
       "    </tr>\n",
       "    <tr>\n",
       "      <th>3</th>\n",
       "      <td>4</td>\n",
       "      <td>Phoenix</td>\n",
       "      <td>Fog</td>\n",
       "      <td>1</td>\n",
       "      <td>Friday</td>\n",
       "      <td>8</td>\n",
       "      <td>1</td>\n",
       "      <td>0</td>\n",
       "      <td>0.0526</td>\n",
       "      <td>2</td>\n",
       "      <td>2.0258</td>\n",
       "      <td>1.993789</td>\n",
       "    </tr>\n",
       "    <tr>\n",
       "      <th>4</th>\n",
       "      <td>5</td>\n",
       "      <td>Phoenix</td>\n",
       "      <td>Thunderstorm</td>\n",
       "      <td>2</td>\n",
       "      <td>Tuesday</td>\n",
       "      <td>2</td>\n",
       "      <td>1</td>\n",
       "      <td>0</td>\n",
       "      <td>0.0526</td>\n",
       "      <td>3</td>\n",
       "      <td>2.0258</td>\n",
       "      <td>1.956784</td>\n",
       "    </tr>\n",
       "    <tr>\n",
       "      <th>...</th>\n",
       "      <td>...</td>\n",
       "      <td>...</td>\n",
       "      <td>...</td>\n",
       "      <td>...</td>\n",
       "      <td>...</td>\n",
       "      <td>...</td>\n",
       "      <td>...</td>\n",
       "      <td>...</td>\n",
       "      <td>...</td>\n",
       "      <td>...</td>\n",
       "      <td>...</td>\n",
       "      <td>...</td>\n",
       "    </tr>\n",
       "    <tr>\n",
       "      <th>4995</th>\n",
       "      <td>4996</td>\n",
       "      <td>Houston</td>\n",
       "      <td>Rain</td>\n",
       "      <td>2</td>\n",
       "      <td>Wednesday</td>\n",
       "      <td>3</td>\n",
       "      <td>0</td>\n",
       "      <td>0</td>\n",
       "      <td>0.0526</td>\n",
       "      <td>2</td>\n",
       "      <td>2.0258</td>\n",
       "      <td>2.032350</td>\n",
       "    </tr>\n",
       "    <tr>\n",
       "      <th>4996</th>\n",
       "      <td>4997</td>\n",
       "      <td>Houston</td>\n",
       "      <td>Snow</td>\n",
       "      <td>3</td>\n",
       "      <td>Thursday</td>\n",
       "      <td>14</td>\n",
       "      <td>2</td>\n",
       "      <td>0</td>\n",
       "      <td>0.0526</td>\n",
       "      <td>5</td>\n",
       "      <td>2.0258</td>\n",
       "      <td>2.003125</td>\n",
       "    </tr>\n",
       "    <tr>\n",
       "      <th>4997</th>\n",
       "      <td>4998</td>\n",
       "      <td>Phoenix</td>\n",
       "      <td>Rain</td>\n",
       "      <td>4</td>\n",
       "      <td>Saturday</td>\n",
       "      <td>20</td>\n",
       "      <td>3</td>\n",
       "      <td>0</td>\n",
       "      <td>0.0526</td>\n",
       "      <td>7</td>\n",
       "      <td>2.0258</td>\n",
       "      <td>2.032350</td>\n",
       "    </tr>\n",
       "    <tr>\n",
       "      <th>4998</th>\n",
       "      <td>4999</td>\n",
       "      <td>Houston</td>\n",
       "      <td>Fog</td>\n",
       "      <td>3</td>\n",
       "      <td>Friday</td>\n",
       "      <td>15</td>\n",
       "      <td>2</td>\n",
       "      <td>0</td>\n",
       "      <td>0.0526</td>\n",
       "      <td>5</td>\n",
       "      <td>2.0258</td>\n",
       "      <td>1.993789</td>\n",
       "    </tr>\n",
       "    <tr>\n",
       "      <th>4999</th>\n",
       "      <td>5000</td>\n",
       "      <td>Phoenix</td>\n",
       "      <td>Snow</td>\n",
       "      <td>1</td>\n",
       "      <td>Friday</td>\n",
       "      <td>14</td>\n",
       "      <td>4</td>\n",
       "      <td>0</td>\n",
       "      <td>0.0526</td>\n",
       "      <td>5</td>\n",
       "      <td>2.0258</td>\n",
       "      <td>2.003125</td>\n",
       "    </tr>\n",
       "  </tbody>\n",
       "</table>\n",
       "<p>5000 rows × 12 columns</p>\n",
       "</div>"
      ],
      "text/plain": [
       "      Accident_ID     City     Condition  Severity Day_of_Week  Hour  \\\n",
       "0               1  Houston          Rain         1      Monday    11   \n",
       "1               2  Phoenix  Thunderstorm         3      Sunday    23   \n",
       "2               3  Chicago           Fog         1      Friday    22   \n",
       "3               4  Phoenix           Fog         1      Friday     8   \n",
       "4               5  Phoenix  Thunderstorm         2     Tuesday     2   \n",
       "...           ...      ...           ...       ...         ...   ...   \n",
       "4995         4996  Houston          Rain         2   Wednesday     3   \n",
       "4996         4997  Houston          Snow         3    Thursday    14   \n",
       "4997         4998  Phoenix          Rain         4    Saturday    20   \n",
       "4998         4999  Houston           Fog         3      Friday    15   \n",
       "4999         5000  Phoenix          Snow         1      Friday    14   \n",
       "\n",
       "      Injuries  Fatalities  Average Fatalities  Serious Accidents  \\\n",
       "0            3           0              0.0526                  4   \n",
       "1            1           0              0.0526                  4   \n",
       "2            0           0              0.0526                  1   \n",
       "3            1           0              0.0526                  2   \n",
       "4            1           0              0.0526                  3   \n",
       "...        ...         ...                 ...                ...   \n",
       "4995         0           0              0.0526                  2   \n",
       "4996         2           0              0.0526                  5   \n",
       "4997         3           0              0.0526                  7   \n",
       "4998         2           0              0.0526                  5   \n",
       "4999         4           0              0.0526                  5   \n",
       "\n",
       "      Average Injuries  Accidents sumarry  \n",
       "0               2.0258           2.032350  \n",
       "1               2.0258           1.956784  \n",
       "2               2.0258           1.993789  \n",
       "3               2.0258           1.993789  \n",
       "4               2.0258           1.956784  \n",
       "...                ...                ...  \n",
       "4995            2.0258           2.032350  \n",
       "4996            2.0258           2.003125  \n",
       "4997            2.0258           2.032350  \n",
       "4998            2.0258           1.993789  \n",
       "4999            2.0258           2.003125  \n",
       "\n",
       "[5000 rows x 12 columns]"
      ]
     },
     "execution_count": 33,
     "metadata": {},
     "output_type": "execute_result"
    }
   ],
   "source": [
    "sumarry=df.groupby('Condition')['Severity'].mean()\n",
    "df['Accidents sumarry']=df['Condition'].map(sumarry)\n",
    "df\n"
   ]
  },
  {
   "cell_type": "markdown",
   "metadata": {},
   "source": [
    "### 6. Trabajo Avanzado con NumPy\n"
   ]
  },
  {
   "cell_type": "markdown",
   "metadata": {},
   "source": [
    "#### Genera arrays para realizar cálculos complejos, como:\n"
   ]
  },
  {
   "cell_type": "code",
   "execution_count": 34,
   "metadata": {},
   "outputs": [
    {
     "name": "stdout",
     "output_type": "stream",
     "text": [
      "[1 3 1 ... 4 3 1]\n",
      "['Monday' 'Sunday' 'Friday' ... 'Saturday' 'Friday' 'Friday']\n",
      "[11 23 22 ... 20 15 14]\n",
      "[3 1 0 ... 3 2 4]\n",
      "[0 0 0 ... 0 0 0]\n",
      "['Rain' 'Thunderstorm' 'Fog' ... 'Rain' 'Fog' 'Snow']\n"
     ]
    }
   ],
   "source": [
    "severity=df['Severity'].to_numpy()\n",
    "day_of_week=df['Day_of_Week'].to_numpy()\n",
    "hour=df['Hour'].to_numpy()\n",
    "injuries=df['Injuries'].to_numpy()\n",
    "fatalities=df['Fatalities'].to_numpy()\n",
    "condition=df['Condition'].to_numpy()\n",
    "print(severity)\n",
    "print(day_of_week)\n",
    "print(hour)\n",
    "print(injuries)\n",
    "print(fatalities)\n",
    "print(condition)\n"
   ]
  },
  {
   "cell_type": "code",
   "execution_count": 35,
   "metadata": {},
   "outputs": [
    {
     "data": {
      "text/plain": [
       "1.993"
      ]
     },
     "execution_count": 35,
     "metadata": {},
     "output_type": "execute_result"
    }
   ],
   "source": [
    "severity.mean()"
   ]
  },
  {
   "cell_type": "markdown",
   "metadata": {},
   "source": [
    "#### La probabilidad de que un accidente sea grave en diferentes condiciones climáticas.\n"
   ]
  },
  {
   "cell_type": "markdown",
   "metadata": {},
   "source": [
    "##### Calcula cuántos accidentes graves hay para cada condición climática.\n"
   ]
  },
  {
   "cell_type": "code",
   "execution_count": 36,
   "metadata": {},
   "outputs": [
    {
     "name": "stdout",
     "output_type": "stream",
     "text": [
      "Condition\n",
      "Clear            98\n",
      "Fog              95\n",
      "Rain            102\n",
      "Snow             99\n",
      "Thunderstorm     88\n",
      "Name: Max_Severity, dtype: int64\n"
     ]
    },
    {
     "data": {
      "text/plain": [
       "array([ 98,  95, 102,  99,  88], dtype=int64)"
      ]
     },
     "execution_count": 36,
     "metadata": {},
     "output_type": "execute_result"
    }
   ],
   "source": [
    "\n",
    "df['Max_Severity']=df['Severity']>=4\n",
    "sum_condition_severity=df.groupby('Condition')['Max_Severity'].sum()\n",
    "print(sum_condition_severity)\n",
    "sum_condition_severity.to_numpy()"
   ]
  },
  {
   "cell_type": "markdown",
   "metadata": {},
   "source": [
    "##### Calcula el total de accidentes para cada condición climática.\n"
   ]
  },
  {
   "cell_type": "code",
   "execution_count": 37,
   "metadata": {},
   "outputs": [
    {
     "name": "stdout",
     "output_type": "stream",
     "text": [
      "Condition\n",
      "Clear           1028\n",
      "Fog              966\n",
      "Rain            1051\n",
      "Snow             960\n",
      "Thunderstorm     995\n",
      "Name: Severity, dtype: int64\n"
     ]
    },
    {
     "data": {
      "text/plain": [
       "array([1028,  966, 1051,  960,  995], dtype=int64)"
      ]
     },
     "execution_count": 37,
     "metadata": {},
     "output_type": "execute_result"
    }
   ],
   "source": [
    "count_max_condition_severity=df.groupby('Condition')['Severity'].count()\n",
    "print(count_max_condition_severity)\n",
    "count_max_condition_severity.to_numpy()"
   ]
  },
  {
   "cell_type": "code",
   "execution_count": 38,
   "metadata": {},
   "outputs": [
    {
     "name": "stdout",
     "output_type": "stream",
     "text": [
      "Condition\n",
      "Clear           0.095331\n",
      "Fog             0.098344\n",
      "Rain            0.097050\n",
      "Snow            0.103125\n",
      "Thunderstorm    0.088442\n",
      "dtype: float64\n"
     ]
    },
    {
     "data": {
      "text/plain": [
       "array([0.09533074, 0.09834369, 0.09705043, 0.103125  , 0.08844221])"
      ]
     },
     "execution_count": 38,
     "metadata": {},
     "output_type": "execute_result"
    }
   ],
   "source": [
    "# Dividir accidentes graves entre el total: Para cada condición, divide le número de accidentes graves entre el total de accidentes para esa condición, Eso te dará la probalidad\n",
    "# (Accidentes graves por condición) / (Total de accidentes por condición\n",
    "probalidad=sum_condition_severity/count_max_condition_severity\n",
    "print(probalidad)\n",
    "probalidad.to_numpy()"
   ]
  },
  {
   "cell_type": "markdown",
   "metadata": {},
   "source": [
    "#### El promedio ponderado de lesiones considerando la severidad de los accidentes.\n"
   ]
  },
  {
   "cell_type": "code",
   "execution_count": 98,
   "metadata": {},
   "outputs": [
    {
     "data": {
      "text/plain": [
       "Injuries\n",
       "0     0.971264\n",
       "1     0.999614\n",
       "2     0.994036\n",
       "3     0.998934\n",
       "4     1.007532\n",
       "5     0.928593\n",
       "6     1.037508\n",
       "7     0.924870\n",
       "8     0.577350\n",
       "9     1.414214\n",
       "10         NaN\n",
       "Name: Severity, dtype: float64"
      ]
     },
     "execution_count": 98,
     "metadata": {},
     "output_type": "execute_result"
    }
   ],
   "source": [
    "injuries_severity=df.groupby('Injuries')['Severity'].std()\n",
    "injuries_severity"
   ]
  },
  {
   "cell_type": "markdown",
   "metadata": {},
   "source": [
    "#### Crea funciones personalizadas con NumPy para analizar los patrones de datos (por ejemplo, una función que calcule la proporción de accidentes fatales por ciudad).\n"
   ]
  },
  {
   "cell_type": "code",
   "execution_count": 65,
   "metadata": {},
   "outputs": [
    {
     "name": "stdout",
     "output_type": "stream",
     "text": [
      "City\n",
      "Chicago        0.046796\n",
      "Houston        0.056492\n",
      "Los Angeles    0.050777\n",
      "New York       0.047105\n",
      "Phoenix        0.061523\n",
      "dtype: float64\n"
     ]
    }
   ],
   "source": [
    "def calculate_of_accidents():\n",
    "    city_fatalities=df.groupby('City')['Fatalities'].sum()\n",
    "    city_severity_count=df.groupby('City')['Severity'].count()\n",
    "    proporcion=city_fatalities/city_severity_count\n",
    "    print(proporcion)\n",
    "    \n",
    "calculate_of_accidents()"
   ]
  },
  {
   "cell_type": "code",
   "execution_count": 82,
   "metadata": {},
   "outputs": [
    {
     "data": {
      "text/plain": [
       "City\n",
       "New York       10\n",
       "Houston         9\n",
       "Phoenix         9\n",
       "Chicago         8\n",
       "Los Angeles     7\n",
       "Name: Injuries, dtype: int64"
      ]
     },
     "execution_count": 82,
     "metadata": {},
     "output_type": "execute_result"
    }
   ],
   "source": [
    "df_ordenado"
   ]
  }
 ],
 "metadata": {
  "kernelspec": {
   "display_name": "base",
   "language": "python",
   "name": "python3"
  },
  "language_info": {
   "codemirror_mode": {
    "name": "ipython",
    "version": 3
   },
   "file_extension": ".py",
   "mimetype": "text/x-python",
   "name": "python",
   "nbconvert_exporter": "python",
   "pygments_lexer": "ipython3",
   "version": "3.12.7"
  }
 },
 "nbformat": 4,
 "nbformat_minor": 2
}
